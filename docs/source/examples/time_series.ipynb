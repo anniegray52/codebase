{
 "cells": [
  {
   "cell_type": "markdown",
   "metadata": {},
   "source": [
    "# Time series - Stocks"
   ]
  },
  {
   "cell_type": "markdown",
   "metadata": {},
   "source": [
    "For this to you'll need to download the data and set your own data path. "
   ]
  },
  {
   "cell_type": "code",
   "execution_count": 1,
   "metadata": {},
   "outputs": [],
   "source": [
    "path = '/home/ag16115/Documents/phd/codebase_data/'"
   ]
  },
  {
   "cell_type": "code",
   "execution_count": 2,
   "metadata": {},
   "outputs": [],
   "source": [
    "# path = ''"
   ]
  },
  {
   "cell_type": "code",
   "execution_count": 3,
   "metadata": {},
   "outputs": [],
   "source": [
    "import pandas as pd"
   ]
  },
  {
   "cell_type": "code",
   "execution_count": 4,
   "metadata": {},
   "outputs": [],
   "source": [
    "import relastat as rs"
   ]
  },
  {
   "cell_type": "code",
   "execution_count": 5,
   "metadata": {},
   "outputs": [],
   "source": [
    "data = pd.read_csv(path + '/sp500_data.csv', sep=',')"
   ]
  },
  {
   "cell_type": "code",
   "execution_count": 6,
   "metadata": {},
   "outputs": [],
   "source": [
    "Y, attributes = rs.matrix_from_time_series(data, 'date')"
   ]
  },
  {
   "cell_type": "code",
   "execution_count": 7,
   "metadata": {},
   "outputs": [],
   "source": [
    "(n, p) = Y.shape"
   ]
  },
  {
   "cell_type": "code",
   "execution_count": 8,
   "metadata": {},
   "outputs": [
    {
     "data": {
      "text/plain": [
       "array([[-1.09947356, -1.48955518, -0.6515604 , ..., -2.20470748,\n",
       "         1.90858336,  0.47525663],\n",
       "       [ 0.16260559,  0.59510885, -2.05268816, ..., -1.39452167,\n",
       "         4.45271374, -1.84401406],\n",
       "       [ 0.50901386, -0.23915824,  0.18915015, ..., -2.02202849,\n",
       "         2.5883366 , -1.38168959],\n",
       "       ...,\n",
       "       [ 0.98037899, -0.19029762, -0.32791901, ..., -1.28513025,\n",
       "         0.95013665, -0.74156719],\n",
       "       [ 0.29704411,  0.17612785,  0.59045864, ..., -2.57681779,\n",
       "         2.98359571,  2.43695645],\n",
       "       [ 1.75101968,  0.45417894,  0.77197585, ..., -2.83260922,\n",
       "         0.54933395,  1.21645255]])"
      ]
     },
     "execution_count": 8,
     "metadata": {},
     "output_type": "execute_result"
    }
   ],
   "source": [
    "Y"
   ]
  }
 ],
 "metadata": {
  "kernelspec": {
   "display_name": "Python 3",
   "language": "python",
   "name": "python3"
  },
  "language_info": {
   "codemirror_mode": {
    "name": "ipython",
    "version": 3
   },
   "file_extension": ".py",
   "mimetype": "text/x-python",
   "name": "python",
   "nbconvert_exporter": "python",
   "pygments_lexer": "ipython3",
   "version": "3.8.10"
  }
 },
 "nbformat": 4,
 "nbformat_minor": 2
}
