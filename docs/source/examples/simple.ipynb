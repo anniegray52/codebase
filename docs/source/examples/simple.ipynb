{
 "cells": [
  {
   "cell_type": "markdown",
   "metadata": {},
   "source": [
    "# Simple graph - Toy data "
   ]
  },
  {
   "cell_type": "code",
   "execution_count": 1,
   "metadata": {},
   "outputs": [],
   "source": [
    "import relastat as rs\n",
    "import pandas as pd"
   ]
  },
  {
   "cell_type": "code",
   "execution_count": 2,
   "metadata": {},
   "outputs": [
    {
     "name": "stdout",
     "output_type": "stream",
     "text": [
      "['A', 'B']\n"
     ]
    }
   ],
   "source": [
    "df = pd.DataFrame(\n",
    "    {'A': ['a1', 'a1', 'a2', 'a2', 'a1', 'a1', 'a2', 'a2'],\n",
    "        'B': ['b1', 'b2', 'b1', 'b2', 'b1', 'b2', 'b1', 'b2'],\n",
    "        'ID': [1, 1, 1, 1, 2, 2, 2, 2]})\n",
    "relationships = ['A', 'B']\n",
    "time_col = 'ID'\n",
    "A1, attributes1 = rs.matrix_from_tables(\n",
    "    df, relationships, dynamic_col=None, join_token='::')"
   ]
  },
  {
   "cell_type": "code",
   "execution_count": 11,
   "metadata": {},
   "outputs": [],
   "source": [
    "import numpy as np\n",
    "B = np.array([[0., 1., 0., 1.],\n",
    "            [1., 0., 1., 1.],\n",
    "            [1., 1., 0., 1.],\n",
    "            [1., 0., 1., 0.]])"
   ]
  },
  {
   "cell_type": "code",
   "execution_count": 13,
   "metadata": {},
   "outputs": [
    {
     "data": {
      "text/plain": [
       "array([[-0.60150096, -0.76512103],\n",
       "       [-0.97324899,  0.4728708 ],\n",
       "       [-0.97324899, -0.4728708 ],\n",
       "       [-0.60150096,  0.76512103]])"
      ]
     },
     "execution_count": 13,
     "metadata": {},
     "output_type": "execute_result"
    }
   ],
   "source": [
    "rs.embed(B,2)"
   ]
  },
  {
   "cell_type": "code",
   "execution_count": null,
   "metadata": {},
   "outputs": [],
   "source": [
    "A1, attributes1 = rs.matrix_from_tables(\n",
    "    df, relationships, dynamic_col=time_col, join_token='::')\n",
    "\n",
    "c0, att0 = rs.find_cc_containing_most(A1, attributes1, 'B', dynamic=False)\n",
    "c1, att1 = rs.find_cc_containing_most(A1, attributes1, 'A', dynamic=True)"
   ]
  }
 ],
 "metadata": {
  "kernelspec": {
   "display_name": "Python 3",
   "language": "python",
   "name": "python3"
  },
  "language_info": {
   "codemirror_mode": {
    "name": "ipython",
    "version": 3
   },
   "file_extension": ".py",
   "mimetype": "text/x-python",
   "name": "python",
   "nbconvert_exporter": "python",
   "pygments_lexer": "ipython3",
   "version": "3.8.10"
  }
 },
 "nbformat": 4,
 "nbformat_minor": 2
}
