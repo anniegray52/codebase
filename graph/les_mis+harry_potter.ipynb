{
 "cells": [
  {
   "cell_type": "code",
   "execution_count": 2,
   "metadata": {},
   "outputs": [],
   "source": [
    "import pandas as pd\n",
    "import numpy as np\n",
    "from scipy import sparse\n",
    "from scipy.sparse.csgraph import connected_components\n",
    "from scipy.sparse.linalg import svds\n",
    "import networkx as nx\n",
    "from copy import deepcopy\n",
    "from scipy import linalg"
   ]
  },
  {
   "cell_type": "markdown",
   "metadata": {},
   "source": [
    "# Graphs"
   ]
  },
  {
   "cell_type": "markdown",
   "metadata": {},
   "source": [
    "Deals with basic graphs. There are two examples, the les mis and harry potter networks. "
   ]
  },
  {
   "cell_type": "code",
   "execution_count": null,
   "metadata": {},
   "outputs": [],
   "source": [
    "# replace with own path to data folder:\n",
    "path = 'path_to_data_folder'"
   ]
  },
  {
   "cell_type": "markdown",
   "metadata": {},
   "source": [
    "# Functions"
   ]
  },
  {
   "cell_type": "code",
   "execution_count": 3,
   "metadata": {},
   "outputs": [],
   "source": [
    "def make_adjacency_matrix(n, source, target, weight = None):\n",
    "    \"\"\" \n",
    "    Make adjacency matrix from source and target arrays.    \n",
    "    \"\"\" \n",
    "\n",
    "    if weight is None:\n",
    "        weights = np.ones(len(n))\n",
    "    else:\n",
    "        weights = weight\n",
    "    A1 = sparse.coo_matrix((weights, (source, target)), shape=(n,n))\n",
    "    A2 = sparse.coo_matrix((weights, (target, source)), shape=(n,n))\n",
    "    return A1 + A2"
   ]
  },
  {
   "cell_type": "code",
   "execution_count": 4,
   "metadata": {},
   "outputs": [],
   "source": [
    "def degree_correction(X):\n",
    "    \"\"\"\n",
    "    Perform degree correction.\n",
    "    \"\"\"\n",
    "    tol = 1e-12\n",
    "    Y = deepcopy(X)\n",
    "    norms = np.linalg.norm(X, axis=1)\n",
    "    idx = np.where(norms > tol)\n",
    "    Y[idx] = X[idx] / (norms[idx, None])\n",
    "    return Y"
   ]
  },
  {
   "cell_type": "code",
   "execution_count": 5,
   "metadata": {},
   "outputs": [],
   "source": [
    "def embed(A, d = 10):\n",
    "    \"\"\" \n",
    "    Embed a graph using adjacency matrix.   \n",
    "    \"\"\"\n",
    "    A = A.astype(float)\n",
    "    u, s, vT = svds(A, d)\n",
    "    o = np.argsort(s[::-1])\n",
    "    embedding = u[:,o] @ np.diag(np.sqrt(s[o]))                  \n",
    "    return embedding"
   ]
  },
  {
   "cell_type": "code",
   "execution_count": 77,
   "metadata": {},
   "outputs": [],
   "source": [
    "# find intersection of two lists    \n",
    "def intersection(lst1, lst2):\n",
    "    return list(set(lst1) & set(lst2))\n",
    "\n",
    "# find union of two lists   \n",
    "def union(list1, list2):    \n",
    "    final_list = list(list1) + list(list2)    \n",
    "    return final_list\n"
   ]
  },
  {
   "cell_type": "code",
   "execution_count": 103,
   "metadata": {},
   "outputs": [],
   "source": [
    "def safe_inv_sqrt(a, tol=1e-12):\n",
    "    \"\"\"\n",
    "    Compute the inverse square root of an array, ignoring division by zero.\n",
    "    \"\"\"\n",
    "    with np.errstate(divide=\"ignore\"):\n",
    "        b = 1 / np.sqrt(a)\n",
    "    b[np.isinf(b)] = 0\n",
    "    b[a < tol] = 0\n",
    "    return b\n",
    "\n",
    "def to_laplacian(A, regulariser=0):\n",
    "    \"\"\"\n",
    "    Convert an adjacency matrix to a Laplacian matrix.\n",
    "\n",
    "    Parameters\n",
    "    ----------\n",
    "    A : scipy.sparse.csr_matrix\n",
    "        The adjacency matrix.\n",
    "    regulariser : float\n",
    "        The regulariser to be added to the degrees of the nodes.\n",
    "\n",
    "    Returns\n",
    "    -------\n",
    "    L : scipy.sparse.csr_matrix\n",
    "        The Laplacian matrix.\n",
    "    \"\"\"\n",
    "\n",
    "    left_degrees = np.reshape(np.asarray(A.sum(axis=1)), (-1,))\n",
    "    right_degrees = np.reshape(np.asarray(A.sum(axis=0)), (-1,))\n",
    "    if regulariser == 'auto':\n",
    "        regulariser = np.mean(np.concatenate((left_degrees, right_degrees)))\n",
    "    left_degrees_inv_sqrt = safe_inv_sqrt(left_degrees + regulariser)\n",
    "    right_degrees_inv_sqrt = safe_inv_sqrt(right_degrees + regulariser)\n",
    "    L = sparse.diags(left_degrees_inv_sqrt) @ A @ sparse.diags(right_degrees_inv_sqrt)\n",
    "    return L"
   ]
  },
  {
   "cell_type": "markdown",
   "metadata": {},
   "source": [
    "# Les Mis"
   ]
  },
  {
   "cell_type": "markdown",
   "metadata": {},
   "source": [
    "Data .csv version from: https://networks.skewed.de/net/lesmis\n",
    "\n",
    "The network of scene coappearances of characters in Victor Hugo's novel \"Les Miserables\". Edge weights denote the number of such occurrences."
   ]
  },
  {
   "cell_type": "code",
   "execution_count": 6,
   "metadata": {},
   "outputs": [],
   "source": [
    "edges = pd.read_csv(path + '/edges.csv')\n",
    "nodes = np.array(pd.read_csv(path + '/nodes.csv')[' label'])\n",
    "\n",
    "edges.columns = ['source', 'target','weight']"
   ]
  },
  {
   "cell_type": "code",
   "execution_count": 7,
   "metadata": {},
   "outputs": [],
   "source": [
    "id_to_node = dict(zip(range(len(nodes)), nodes))\n",
    "n = len(id_to_node)"
   ]
  },
  {
   "cell_type": "code",
   "execution_count": 8,
   "metadata": {},
   "outputs": [],
   "source": [
    "A = make_adjacency_matrix(n, edges['source'], edges['target'], edges['weight'])\n",
    "# A = A.todense()"
   ]
  },
  {
   "cell_type": "code",
   "execution_count": 9,
   "metadata": {},
   "outputs": [],
   "source": [
    "# make networkx graph from source and target and weight \n",
    "G = nx.from_pandas_edgelist(edges, 'source', 'target', 'weight')"
   ]
  },
  {
   "cell_type": "code",
   "execution_count": 10,
   "metadata": {},
   "outputs": [],
   "source": [
    "for key, value in id_to_node.items():\n",
    "    G.nodes[key]['name'] = value"
   ]
  },
  {
   "cell_type": "code",
   "execution_count": 11,
   "metadata": {},
   "outputs": [
    {
     "data": {
      "image/png": "[encoded data removed]",
      "text/plain": [
       "<Figure size 640x480 with 1 Axes>"
      ]
     },
     "metadata": {},
     "output_type": "display_data"
    }
   ],
   "source": [
    "nx.draw(G, with_labels=True,pos=nx.kamada_kawai_layout(G), font_weight='bold')\n",
    "nx.draw_networkx_labels(G,labels = id_to_node, pos=nx.kamada_kawai_layout(G));"
   ]
  },
  {
   "cell_type": "code",
   "execution_count": 12,
   "metadata": {},
   "outputs": [
    {
     "data": {
      "application/vnd.plotly.v1+json": {
       "config": {
        "plotlyServerURL": "https://plot.ly"
       },
       "data": [
        {
         "hovertext": [
          "Myriel",
          "Napoleon",
          "MlleBaptistine",
          "MmeMagloire",
          "CountessDeLo",
          "Geborand",
          "Champtercier",
          "Cravatte",
          "Count",
          "OldMan",
          "Labarre",
          "Valjean",
          "Marguerite",
          "MmeDeR",
          "Isabeau",
          "Gervais",
          "Tholomyes",
          "Listolier",
          "Fameuil",
          "Blacheville",
          "Favourite",
          "Dahlia",
          "Zephine",
          "Fantine",
          "MmeThenardier",
          "Thenardier",
          "Cosette",
          "Javert",
          "Fauchelevent",
          "Bamatabois",
          "Perpetue",
          "Simplice",
          "Scaufflaire",
          "Woman1",
          "Judge",
          "Champmathieu",
          "Brevet",
          "Chenildieu",
          "Cochepaille",
          "Pontmercy",
          "Boulatruelle",
          "Eponine",
          "Anzelma",
          "Woman2",
          "MotherInnocent",
          "Gribier",
          "Jondrette",
          "MmeBurgon",
          "Gavroche",
          "Gillenormand",
          "Magnon",
          "MlleGillenormand",
          "MmePontmercy",
          "MlleVaubois",
          "LtGillenormand",
          "Marius",
          "BaronessT",
          "Mabeuf",
          "Enjolras",
          "Combeferre",
          "Prouvaire",
          "Feuilly",
          "Courfeyrac",
          "Bahorel",
          "Bossuet",
          "Joly",
          "Grantaire",
          "MotherPlutarch",
          "Gueulemer",
          "Babet",
          "Claquesous",
          "Montparnasse",
          "Toussaint",
          "Child1",
          "Child2",
          "Brujon",
          "MmeHucheloup"
         ],
         "mode": "markers+text",
         "textposition": "bottom center",
         "type": "scatter",
         "x": [
          0.14055568897542275,
          0.03828507332092257,
          0.11817960000905753,
          0.1117908128088974,
          0.038285073320922486,
          0.03828507332092259,
          0.0382850733209228,
          0.03828507332092257,
          0.038285073320922514,
          0.038285073320922645,
          0.37976565637929904,
          0.5612570110795909,
          0.36217308979044005,
          0.3797656563792981,
          0.37976565637929854,
          0.37976565637929904,
          0.08881781559608104,
          0.03447968491635412,
          0.034479684916354114,
          0.033795298304656864,
          0.03763169952748984,
          0.03841537253347372,
          0.03926412245085728,
          0.3098412490191711,
          0.29080850882742515,
          0.30533803112695573,
          0.5356374867968505,
          0.47405694517047026,
          0.40544674518058316,
          0.505509158394788,
          0.16605242509597123,
          0.46022018489535815,
          0.37976565637929843,
          0.4559652100229601,
          0.43643107214811244,
          0.4364310721481128,
          0.4509166670487425,
          0.4509166670487429,
          0.450916667048743,
          0.25329906359174476,
          0.08878159064530727,
          0.3554532926275004,
          0.1648344558978789,
          0.5299295678316267,
          0.5483902068223793,
          0.22789355977610729,
          0.18374643105796737,
          0.47337165974018863,
          0.681302372847093,
          0.40080316664979965,
          0.14879252372960325,
          0.45568153859503524,
          0.1788776979661165,
          0.16845826983112985,
          0.3686408501926707,
          0.6199972590058951,
          0.3548272233695936,
          0.6039311565787725,
          0.5186327191328836,
          0.4771230437280425,
          0.5045601356747786,
          0.5692296956564339,
          0.47491318741506117,
          0.5556601478036044,
          0.5950011319649087,
          0.572135042956952,
          0.502408993773237,
          0.38219242927970315,
          0.1673809222555618,
          0.1713091436284129,
          0.1940261461599051,
          0.22723784800171948,
          0.5037570288683533,
          0.4859017441744454,
          0.485901744174446,
          0.12289523021843703,
          0.46513199475316686
         ],
         "y": [
          0.1538106176810582,
          0.05586242597803487,
          0.1334194425145973,
          0.1275114891503402,
          0.05586242597803496,
          0.05586242597803479,
          0.05586242597803562,
          0.05586242597803486,
          0.055862425978034806,
          0.05586242597803481,
          0.37703956430121277,
          0.4179079140553587,
          0.3997152708350482,
          0.37703956430121127,
          0.37703956430121177,
          0.37703956430121266,
          0.08938253801183266,
          0.05472595371312075,
          0.054725953713120785,
          0.05390930645795904,
          0.05936452899392789,
          0.060360539254301855,
          0.061406392348431586,
          0.3233678524893067,
          0.31486876098860844,
          0.29481249017320676,
          0.40635591408817523,
          0.3133407678545536,
          0.40210643156208187,
          0.5307140379046134,
          0.22941297101784905,
          0.47114907137178613,
          0.3770395643012112,
          0.4442646886588886,
          0.45789450462346243,
          0.4578945046234632,
          0.47910938375816964,
          0.47910938375816947,
          0.47910938375816975,
          0.14911651696583342,
          0.11429844477704482,
          0.1427179317692749,
          0.19390304821410095,
          0.522491457821883,
          0.5952325594841957,
          0.30136421024442434,
          -0.32929741888757713,
          -0.6362374761341908,
          -0.6866328090225238,
          0.22202888192949935,
          0.16043928568379429,
          0.2860855356399368,
          0.14882746568894295,
          0.14101951725680265,
          0.254006555039586,
          0.15299221440574345,
          0.14917401753438445,
          -0.7388591667177072,
          -0.47858591045050347,
          -0.577868682381721,
          -0.7552096924797267,
          -0.8020682599498637,
          -0.526468781771282,
          -0.7861868112080039,
          -0.69124678567214,
          -0.7731262305927097,
          -0.7511001445063654,
          -0.6234601958983774,
          0.16088029596082173,
          0.16631036515947634,
          0.15437402741676634,
          0.16398710342801523,
          0.49789554359797267,
          -0.6636594209644485,
          -0.6636594209644489,
          0.09549367595969835,
          -0.6993218765189005
         ]
        }
       ],
       "layout": {
        "height": 400,
        "hovermode": "closest",
        "template": {
         "data": {
          "bar": [
           {
            "error_x": {
             "color": "#2a3f5f"
            },
            "error_y": {
             "color": "#2a3f5f"
            },
            "marker": {
             "line": {
              "color": "#E5ECF6",
              "width": 0.5
             },
             "pattern": {
              "fillmode": "overlay",
              "size": 10,
              "solidity": 0.2
             }
            },
            "type": "bar"
           }
          ],
          "barpolar": [
           {
            "marker": {
             "line": {
              "color": "#E5ECF6",
              "width": 0.5
             },
             "pattern": {
              "fillmode": "overlay",
              "size": 10,
              "solidity": 0.2
             }
            },
            "type": "barpolar"
           }
          ],
          "carpet": [
           {
            "aaxis": {
             "endlinecolor": "#2a3f5f",
             "gridcolor": "white",
             "linecolor": "white",
             "minorgridcolor": "white",
             "startlinecolor": "#2a3f5f"
            },
            "baxis": {
             "endlinecolor": "#2a3f5f",
             "gridcolor": "white",
             "linecolor": "white",
             "minorgridcolor": "white",
             "startlinecolor": "#2a3f5f"
            },
            "type": "carpet"
           }
          ],
          "choropleth": [
           {
            "colorbar": {
             "outlinewidth": 0,
             "ticks": ""
            },
            "type": "choropleth"
           }
          ],
          "contour": [
           {
            "colorbar": {
             "outlinewidth": 0,
             "ticks": ""
            },
            "colorscale": [
             [
              0,
              "#0d0887"
             ],
             [
              0.1111111111111111,
              "#46039f"
             ],
             [
              0.2222222222222222,
              "#7201a8"
             ],
             [
              0.3333333333333333,
              "#9c179e"
             ],
             [
              0.4444444444444444,
              "#bd3786"
             ],
             [
              0.5555555555555556,
              "#d8576b"
             ],
             [
              0.6666666666666666,
              "#ed7953"
             ],
             [
              0.7777777777777778,
              "#fb9f3a"
             ],
             [
              0.8888888888888888,
              "#fdca26"
             ],
             [
              1,
              "#f0f921"
             ]
            ],
            "type": "contour"
           }
          ],
          "contourcarpet": [
           {
            "colorbar": {
             "outlinewidth": 0,
             "ticks": ""
            },
            "type": "contourcarpet"
           }
          ],
          "heatmap": [
           {
            "colorbar": {
             "outlinewidth": 0,
             "ticks": ""
            },
            "colorscale": [
             [
              0,
              "#0d0887"
             ],
             [
              0.1111111111111111,
              "#46039f"
             ],
             [
              0.2222222222222222,
              "#7201a8"
             ],
             [
              0.3333333333333333,
              "#9c179e"
             ],
             [
              0.4444444444444444,
              "#bd3786"
             ],
             [
              0.5555555555555556,
              "#d8576b"
             ],
             [
              0.6666666666666666,
              "#ed7953"
             ],
             [
              0.7777777777777778,
              "#fb9f3a"
             ],
             [
              0.8888888888888888,
              "#fdca26"
             ],
             [
              1,
              "#f0f921"
             ]
            ],
            "type": "heatmap"
           }
          ],
          "heatmapgl": [
           {
            "colorbar": {
             "outlinewidth": 0,
             "ticks": ""
            },
            "colorscale": [
             [
              0,
              "#0d0887"
             ],
             [
              0.1111111111111111,
              "#46039f"
             ],
             [
              0.2222222222222222,
              "#7201a8"
             ],
             [
              0.3333333333333333,
              "#9c179e"
             ],
             [
              0.4444444444444444,
              "#bd3786"
             ],
             [
              0.5555555555555556,
              "#d8576b"
             ],
             [
              0.6666666666666666,
              "#ed7953"
             ],
             [
              0.7777777777777778,
              "#fb9f3a"
             ],
             [
              0.8888888888888888,
              "#fdca26"
             ],
             [
              1,
              "#f0f921"
             ]
            ],
            "type": "heatmapgl"
           }
          ],
          "histogram": [
           {
            "marker": {
             "pattern": {
              "fillmode": "overlay",
              "size": 10,
              "solidity": 0.2
             }
            },
            "type": "histogram"
           }
          ],
          "histogram2d": [
           {
            "colorbar": {
             "outlinewidth": 0,
             "ticks": ""
            },
            "colorscale": [
             [
              0,
              "#0d0887"
             ],
             [
              0.1111111111111111,
              "#46039f"
             ],
             [
              0.2222222222222222,
              "#7201a8"
             ],
             [
              0.3333333333333333,
              "#9c179e"
             ],
             [
              0.4444444444444444,
              "#bd3786"
             ],
             [
              0.5555555555555556,
              "#d8576b"
             ],
             [
              0.6666666666666666,
              "#ed7953"
             ],
             [
              0.7777777777777778,
              "#fb9f3a"
             ],
             [
              0.8888888888888888,
              "#fdca26"
             ],
             [
              1,
              "#f0f921"
             ]
            ],
            "type": "histogram2d"
           }
          ],
          "histogram2dcontour": [
           {
            "colorbar": {
             "outlinewidth": 0,
             "ticks": ""
            },
            "colorscale": [
             [
              0,
              "#0d0887"
             ],
             [
              0.1111111111111111,
              "#46039f"
             ],
             [
              0.2222222222222222,
              "#7201a8"
             ],
             [
              0.3333333333333333,
              "#9c179e"
             ],
             [
              0.4444444444444444,
              "#bd3786"
             ],
             [
              0.5555555555555556,
              "#d8576b"
             ],
             [
              0.6666666666666666,
              "#ed7953"
             ],
             [
              0.7777777777777778,
              "#fb9f3a"
             ],
             [
              0.8888888888888888,
              "#fdca26"
             ],
             [
              1,
              "#f0f921"
             ]
            ],
            "type": "histogram2dcontour"
           }
          ],
          "mesh3d": [
           {
            "colorbar": {
             "outlinewidth": 0,
             "ticks": ""
            },
            "type": "mesh3d"
           }
          ],
          "parcoords": [
           {
            "line": {
             "colorbar": {
              "outlinewidth": 0,
              "ticks": ""
             }
            },
            "type": "parcoords"
           }
          ],
          "pie": [
           {
            "automargin": true,
            "type": "pie"
           }
          ],
          "scatter": [
           {
            "marker": {
             "colorbar": {
              "outlinewidth": 0,
              "ticks": ""
             }
            },
            "type": "scatter"
           }
          ],
          "scatter3d": [
           {
            "line": {
             "colorbar": {
              "outlinewidth": 0,
              "ticks": ""
             }
            },
            "marker": {
             "colorbar": {
              "outlinewidth": 0,
              "ticks": ""
             }
            },
            "type": "scatter3d"
           }
          ],
          "scattercarpet": [
           {
            "marker": {
             "colorbar": {
              "outlinewidth": 0,
              "ticks": ""
             }
            },
            "type": "scattercarpet"
           }
          ],
          "scattergeo": [
           {
            "marker": {
             "colorbar": {
              "outlinewidth": 0,
              "ticks": ""
             }
            },
            "type": "scattergeo"
           }
          ],
          "scattergl": [
           {
            "marker": {
             "colorbar": {
              "outlinewidth": 0,
              "ticks": ""
             }
            },
            "type": "scattergl"
           }
          ],
          "scattermapbox": [
           {
            "marker": {
             "colorbar": {
              "outlinewidth": 0,
              "ticks": ""
             }
            },
            "type": "scattermapbox"
           }
          ],
          "scatterpolar": [
           {
            "marker": {
             "colorbar": {
              "outlinewidth": 0,
              "ticks": ""
             }
            },
            "type": "scatterpolar"
           }
          ],
          "scatterpolargl": [
           {
            "marker": {
             "colorbar": {
              "outlinewidth": 0,
              "ticks": ""
             }
            },
            "type": "scatterpolargl"
           }
          ],
          "scatterternary": [
           {
            "marker": {
             "colorbar": {
              "outlinewidth": 0,
              "ticks": ""
             }
            },
            "type": "scatterternary"
           }
          ],
          "surface": [
           {
            "colorbar": {
             "outlinewidth": 0,
             "ticks": ""
            },
            "colorscale": [
             [
              0,
              "#0d0887"
             ],
             [
              0.1111111111111111,
              "#46039f"
             ],
             [
              0.2222222222222222,
              "#7201a8"
             ],
             [
              0.3333333333333333,
              "#9c179e"
             ],
             [
              0.4444444444444444,
              "#bd3786"
             ],
             [
              0.5555555555555556,
              "#d8576b"
             ],
             [
              0.6666666666666666,
              "#ed7953"
             ],
             [
              0.7777777777777778,
              "#fb9f3a"
             ],
             [
              0.8888888888888888,
              "#fdca26"
             ],
             [
              1,
              "#f0f921"
             ]
            ],
            "type": "surface"
           }
          ],
          "table": [
           {
            "cells": {
             "fill": {
              "color": "#EBF0F8"
             },
             "line": {
              "color": "white"
             }
            },
            "header": {
             "fill": {
              "color": "#C8D4E3"
             },
             "line": {
              "color": "white"
             }
            },
            "type": "table"
           }
          ]
         },
         "layout": {
          "annotationdefaults": {
           "arrowcolor": "#2a3f5f",
           "arrowhead": 0,
           "arrowwidth": 1
          },
          "autotypenumbers": "strict",
          "coloraxis": {
           "colorbar": {
            "outlinewidth": 0,
            "ticks": ""
           }
          },
          "colorscale": {
           "diverging": [
            [
             0,
             "#8e0152"
            ],
            [
             0.1,
             "#c51b7d"
            ],
            [
             0.2,
             "#de77ae"
            ],
            [
             0.3,
             "#f1b6da"
            ],
            [
             0.4,
             "#fde0ef"
            ],
            [
             0.5,
             "#f7f7f7"
            ],
            [
             0.6,
             "#e6f5d0"
            ],
            [
             0.7,
             "#b8e186"
            ],
            [
             0.8,
             "#7fbc41"
            ],
            [
             0.9,
             "#4d9221"
            ],
            [
             1,
             "#276419"
            ]
           ],
           "sequential": [
            [
             0,
             "#0d0887"
            ],
            [
             0.1111111111111111,
             "#46039f"
            ],
            [
             0.2222222222222222,
             "#7201a8"
            ],
            [
             0.3333333333333333,
             "#9c179e"
            ],
            [
             0.4444444444444444,
             "#bd3786"
            ],
            [
             0.5555555555555556,
             "#d8576b"
            ],
            [
             0.6666666666666666,
             "#ed7953"
            ],
            [
             0.7777777777777778,
             "#fb9f3a"
            ],
            [
             0.8888888888888888,
             "#fdca26"
            ],
            [
             1,
             "#f0f921"
            ]
           ],
           "sequentialminus": [
            [
             0,
             "#0d0887"
            ],
            [
             0.1111111111111111,
             "#46039f"
            ],
            [
             0.2222222222222222,
             "#7201a8"
            ],
            [
             0.3333333333333333,
             "#9c179e"
            ],
            [
             0.4444444444444444,
             "#bd3786"
            ],
            [
             0.5555555555555556,
             "#d8576b"
            ],
            [
             0.6666666666666666,
             "#ed7953"
            ],
            [
             0.7777777777777778,
             "#fb9f3a"
            ],
            [
             0.8888888888888888,
             "#fdca26"
            ],
            [
             1,
             "#f0f921"
            ]
           ]
          },
          "colorway": [
           "#636efa",
           "#EF553B",
           "#00cc96",
           "#ab63fa",
           "#FFA15A",
           "#19d3f3",
           "#FF6692",
           "#B6E880",
           "#FF97FF",
           "#FECB52"
          ],
          "font": {
           "color": "#2a3f5f"
          },
          "geo": {
           "bgcolor": "white",
           "lakecolor": "white",
           "landcolor": "#E5ECF6",
           "showlakes": true,
           "showland": true,
           "subunitcolor": "white"
          },
          "hoverlabel": {
           "align": "left"
          },
          "hovermode": "closest",
          "mapbox": {
           "style": "light"
          },
          "paper_bgcolor": "white",
          "plot_bgcolor": "#E5ECF6",
          "polar": {
           "angularaxis": {
            "gridcolor": "white",
            "linecolor": "white",
            "ticks": ""
           },
           "bgcolor": "#E5ECF6",
           "radialaxis": {
            "gridcolor": "white",
            "linecolor": "white",
            "ticks": ""
           }
          },
          "scene": {
           "xaxis": {
            "backgroundcolor": "#E5ECF6",
            "gridcolor": "white",
            "gridwidth": 2,
            "linecolor": "white",
            "showbackground": true,
            "ticks": "",
            "zerolinecolor": "white"
           },
           "yaxis": {
            "backgroundcolor": "#E5ECF6",
            "gridcolor": "white",
            "gridwidth": 2,
            "linecolor": "white",
            "showbackground": true,
            "ticks": "",
            "zerolinecolor": "white"
           },
           "zaxis": {
            "backgroundcolor": "#E5ECF6",
            "gridcolor": "white",
            "gridwidth": 2,
            "linecolor": "white",
            "showbackground": true,
            "ticks": "",
            "zerolinecolor": "white"
           }
          },
          "shapedefaults": {
           "line": {
            "color": "#2a3f5f"
           }
          },
          "ternary": {
           "aaxis": {
            "gridcolor": "white",
            "linecolor": "white",
            "ticks": ""
           },
           "baxis": {
            "gridcolor": "white",
            "linecolor": "white",
            "ticks": ""
           },
           "bgcolor": "#E5ECF6",
           "caxis": {
            "gridcolor": "white",
            "linecolor": "white",
            "ticks": ""
           }
          },
          "title": {
           "x": 0.05
          },
          "xaxis": {
           "automargin": true,
           "gridcolor": "white",
           "linecolor": "white",
           "ticks": "",
           "title": {
            "standoff": 15
           },
           "zerolinecolor": "white",
           "zerolinewidth": 2
          },
          "yaxis": {
           "automargin": true,
           "gridcolor": "white",
           "linecolor": "white",
           "ticks": "",
           "title": {
            "standoff": 15
           },
           "zerolinecolor": "white",
           "zerolinewidth": 2
          }
         }
        },
        "title": {
         "text": "Les Miserables Characters"
        },
        "width": 400,
        "xaxis": {
         "title": {
          "text": "First Dimension"
         }
        },
        "yaxis": {
         "title": {
          "text": "Second Dimension"
         }
        }
       }
      }
     },
     "metadata": {},
     "output_type": "display_data"
    }
   ],
   "source": [
    "# use plotly to plot the first two dimensions of embed with hovertext given by the names of the characters  \n",
    "import plotly.graph_objects as go       \n",
    "embedding = embed(A, d = 10)\n",
    "\n",
    "embedding = degree_correction(embedding)\n",
    "\n",
    "fig = go.Figure(data=go.Scatter(x=embedding[:,0],\n",
    "                                y=embedding[:,1],\n",
    "                                mode='markers+text',\n",
    "                                hovertext = nodes,\n",
    "                                textposition=\"bottom center\"))  \n",
    "fig.update_layout(title = 'Les Miserables Characters',  \n",
    "                    xaxis_title = 'First Dimension', \n",
    "                    yaxis_title = 'Second Dimension', \n",
    "                    hovermode = 'closest',\n",
    "                    width = 400,    \n",
    "                    height = 400) \n",
    "fig.show()  \n"
   ]
  },
  {
   "cell_type": "markdown",
   "metadata": {},
   "source": [
    "# HP"
   ]
  },
  {
   "cell_type": "code",
   "execution_count": 78,
   "metadata": {},
   "outputs": [],
   "source": [
    "data = pd.read_csv(path + '/harry_potter.csv', sep = ',')\n",
    "attributes = pd.read_csv(path + '/HP-characters.csv', sep=',')\n"
   ]
  },
  {
   "cell_type": "code",
   "execution_count": 83,
   "metadata": {},
   "outputs": [],
   "source": [
    "# find unique elements of a list    \n",
    "def unique(list1):  \n",
    "    unique_list = []   \n",
    "    for x in list1: \n",
    "        if x not in unique_list: \n",
    "            unique_list.append(x) \n",
    "    return unique_list\n"
   ]
  },
  {
   "cell_type": "code",
   "execution_count": 85,
   "metadata": {},
   "outputs": [],
   "source": [
    "present_ids =  sorted(unique(union(data['source'].unique(), data['target'].unique())))"
   ]
  },
  {
   "cell_type": "code",
   "execution_count": 87,
   "metadata": {},
   "outputs": [],
   "source": [
    "attributes = attributes[attributes['id'].isin(present_ids)].reset_index(drop=True)"
   ]
  },
  {
   "cell_type": "code",
   "execution_count": 88,
   "metadata": {},
   "outputs": [],
   "source": [
    "nodes = list(attributes['name'])\n",
    "n = len(nodes)"
   ]
  },
  {
   "cell_type": "code",
   "execution_count": 90,
   "metadata": {},
   "outputs": [],
   "source": [
    "id_to_node = dict(zip(range(len(nodes)), nodes))"
   ]
  },
  {
   "cell_type": "code",
   "execution_count": 91,
   "metadata": {},
   "outputs": [],
   "source": [
    "# replace '-' on type column to -1  \n",
    "data = data.replace('-', -1)"
   ]
  },
  {
   "cell_type": "code",
   "execution_count": 92,
   "metadata": {},
   "outputs": [],
   "source": [
    "data = data.replace('+', 1)"
   ]
  },
  {
   "cell_type": "code",
   "execution_count": 93,
   "metadata": {},
   "outputs": [],
   "source": [
    "A = make_adjacency_matrix(n, data['source'], data['target'], data['type'])"
   ]
  },
  {
   "cell_type": "code",
   "execution_count": 108,
   "metadata": {},
   "outputs": [
    {
     "data": {
      "application/vnd.plotly.v1+json": {
       "config": {
        "plotlyServerURL": "https://plot.ly"
       },
       "data": [
        {
         "hovertext": [
          "Regulus Arcturus Black",
          "Sirius Black",
          "Lavender Brown",
          "Cho Chang",
          "Vincent Crabbe Sr.",
          "Vincent Crabbe",
          "Bartemius \"Barty\" Crouch Sr.",
          "Bartemius \"Barty\" Crouch Jr.",
          "Fleur Delacour",
          "Cedric Diggory",
          "Alberforth Dumbledore",
          "Albus Dumbledore",
          "Dudley Dursley",
          "Petunia Dursley",
          "Vernon Dursley",
          "Argus Filch",
          "Seamus Finnigan",
          "Nicolas Flamel",
          "Cornelius Fudge",
          "Goyle Sr.",
          "Gregory Goyle",
          "Hermione Granger",
          "Rubeus Hagrid",
          "Igor Karkaroff",
          "Viktor Krum",
          "Bellatrix Lestrange",
          "Alice Longbottom",
          "Frank Longbottom",
          "Neville Longbottom",
          "Luna Lovegood",
          "Xenophilius Lovegood",
          "Remus Lupin",
          "Draco Malfoy",
          "Lucius Malfoy",
          "Narcissa Malfoy",
          "Olympe Maxime",
          "Minerva McGonagall",
          "Alastor \"Mad-Eye\" Moody",
          "Peter Pettigrew",
          "Harry Potter",
          "James Potter",
          "Lily Potter",
          "Quirinus Quirrell",
          "Tom Riddle Sr.",
          "Mary Riddle",
          "Lord Voldemort",
          "Rita Skeeter",
          "Severus Snape",
          "Nymphadora Tonks",
          "Dolores Janes Umbridge",
          "Arthur Weasley",
          "Bill Weasley",
          "Charlie Weasley",
          "Fred Weasley",
          "George Weasley",
          "Ginny Weasley",
          "Molly Weasley",
          "Percy Weasley",
          "Ron Weasley",
          "Dobby",
          "Fluffy",
          "Hedwig",
          "Moaning Myrtle",
          "Aragog",
          "Grawp"
         ],
         "marker": {
          "size": 10
         },
         "mode": "markers+text",
         "textposition": "bottom center",
         "type": "scatter",
         "x": [
          0.02157397174828812,
          -0.8966487307508633,
          -0.02125762431693992,
          -0.2256071408835553,
          0.07260118901443519,
          0.2193097484955584,
          -0.05472784889223539,
          0.284780737721266,
          -0.3944703815382608,
          -0.09732333933763924,
          -0.25621297275041915,
          -1.3184783019181934,
          0.08186518919963502,
          0.1745772188282208,
          0.15130277774049872,
          0.24058721628290505,
          -0.2893449618144211,
          -0.04842268442305072,
          0.1885032403971977,
          0.05383674956379467,
          0.2288927893354205,
          -1.5000742503363602,
          -0.44366789190752437,
          -0.0486638130812306,
          -0.1187608539855222,
          0.34296266324384317,
          -0.01901107500232536,
          -0.049958947160191856,
          -0.36776670070134604,
          -0.2946868948078839,
          -0.01082272684361264,
          -0.5140544878794246,
          0.34213683491799474,
          0.33059323958854375,
          0.12932782222224679,
          -0.09728577743440309,
          -0.8136346054263468,
          -0.7416155006501896,
          0.6785518569220522,
          -1.1444873543834577,
          -0.4937763586235547,
          -0.3897139073658313,
          0.2841407220424623,
          -0.09886797514056647,
          -0.04161975249164254,
          0.935508545460087,
          0.22933337297423287,
          -0.7153674928362733,
          -0.13652165597048105,
          0.6178815121470795,
          -1.5025975960171623,
          -1.3214065334660603,
          -1.3079104581908167,
          -1.2054332286358802,
          -1.5394871444187939,
          -1.255396879594699,
          -1.0075376531539477,
          -1.017135723517574,
          -1.4217763555032428,
          -0.2730069207994954,
          0.16896906579878487,
          -0.04203265985254043,
          -0.04203265985254041,
          0.11675263744912796,
          -0.18192956235482485
         ],
         "y": [
          0.0024141083648269858,
          -0.4682378817619463,
          -0.024295250606055096,
          -0.24510385312588415,
          0.14399091412036033,
          0.2795285076533268,
          0.0343683110489155,
          0.3741069248452386,
          -0.11661336576093581,
          -0.14902477312190118,
          -0.25231789049174586,
          -0.7740376715238274,
          0.16424424716931083,
          0.26598338346983047,
          0.2057794072843137,
          0.035998357141072086,
          -0.1795842120039306,
          -0.05329522270300058,
          0.25896899913884425,
          0.0962250437344373,
          0.2763981362261789,
          -0.5912229403525093,
          -0.5332771199311451,
          -0.07303936549201062,
          -0.12731341915701025,
          0.3446598015656262,
          -0.041842599897073396,
          -0.08183130017323857,
          -0.3622106356883811,
          -0.25853979540729954,
          -0.017801376445533732,
          -0.3516760451625586,
          0.36121333440705855,
          0.23821642419074632,
          0.18562559627565978,
          -0.13978950166341025,
          -0.8931297535926154,
          -0.5878373781878726,
          0.5754065183252737,
          -0.8461073936396908,
          -0.6746838137659698,
          -0.566858993081134,
          0.23614373412569567,
          -0.13532192422171813,
          -0.06688357245399094,
          0.7007453691977893,
          0.27640062244167185,
          -0.4941966912155559,
          -0.17686206763868179,
          0.6569385852863924,
          1.100441555074519,
          1.0889026162234703,
          1.095960005351634,
          0.722207069309513,
          1.0840768200972457,
          0.7689416767847995,
          0.2522171398913137,
          1.0324224573248872,
          -0.40228221831038513,
          -0.2768723135151437,
          0.0809263394311329,
          -0.05825747716633516,
          -0.05825747716633523,
          0.05322779037718149,
          -0.2000998298901576
         ]
        }
       ],
       "layout": {
        "height": 1000,
        "hovermode": "closest",
        "template": {
         "data": {
          "bar": [
           {
            "error_x": {
             "color": "#2a3f5f"
            },
            "error_y": {
             "color": "#2a3f5f"
            },
            "marker": {
             "line": {
              "color": "#E5ECF6",
              "width": 0.5
             },
             "pattern": {
              "fillmode": "overlay",
              "size": 10,
              "solidity": 0.2
             }
            },
            "type": "bar"
           }
          ],
          "barpolar": [
           {
            "marker": {
             "line": {
              "color": "#E5ECF6",
              "width": 0.5
             },
             "pattern": {
              "fillmode": "overlay",
              "size": 10,
              "solidity": 0.2
             }
            },
            "type": "barpolar"
           }
          ],
          "carpet": [
           {
            "aaxis": {
             "endlinecolor": "#2a3f5f",
             "gridcolor": "white",
             "linecolor": "white",
             "minorgridcolor": "white",
             "startlinecolor": "#2a3f5f"
            },
            "baxis": {
             "endlinecolor": "#2a3f5f",
             "gridcolor": "white",
             "linecolor": "white",
             "minorgridcolor": "white",
             "startlinecolor": "#2a3f5f"
            },
            "type": "carpet"
           }
          ],
          "choropleth": [
           {
            "colorbar": {
             "outlinewidth": 0,
             "ticks": ""
            },
            "type": "choropleth"
           }
          ],
          "contour": [
           {
            "colorbar": {
             "outlinewidth": 0,
             "ticks": ""
            },
            "colorscale": [
             [
              0,
              "#0d0887"
             ],
             [
              0.1111111111111111,
              "#46039f"
             ],
             [
              0.2222222222222222,
              "#7201a8"
             ],
             [
              0.3333333333333333,
              "#9c179e"
             ],
             [
              0.4444444444444444,
              "#bd3786"
             ],
             [
              0.5555555555555556,
              "#d8576b"
             ],
             [
              0.6666666666666666,
              "#ed7953"
             ],
             [
              0.7777777777777778,
              "#fb9f3a"
             ],
             [
              0.8888888888888888,
              "#fdca26"
             ],
             [
              1,
              "#f0f921"
             ]
            ],
            "type": "contour"
           }
          ],
          "contourcarpet": [
           {
            "colorbar": {
             "outlinewidth": 0,
             "ticks": ""
            },
            "type": "contourcarpet"
           }
          ],
          "heatmap": [
           {
            "colorbar": {
             "outlinewidth": 0,
             "ticks": ""
            },
            "colorscale": [
             [
              0,
              "#0d0887"
             ],
             [
              0.1111111111111111,
              "#46039f"
             ],
             [
              0.2222222222222222,
              "#7201a8"
             ],
             [
              0.3333333333333333,
              "#9c179e"
             ],
             [
              0.4444444444444444,
              "#bd3786"
             ],
             [
              0.5555555555555556,
              "#d8576b"
             ],
             [
              0.6666666666666666,
              "#ed7953"
             ],
             [
              0.7777777777777778,
              "#fb9f3a"
             ],
             [
              0.8888888888888888,
              "#fdca26"
             ],
             [
              1,
              "#f0f921"
             ]
            ],
            "type": "heatmap"
           }
          ],
          "heatmapgl": [
           {
            "colorbar": {
             "outlinewidth": 0,
             "ticks": ""
            },
            "colorscale": [
             [
              0,
              "#0d0887"
             ],
             [
              0.1111111111111111,
              "#46039f"
             ],
             [
              0.2222222222222222,
              "#7201a8"
             ],
             [
              0.3333333333333333,
              "#9c179e"
             ],
             [
              0.4444444444444444,
              "#bd3786"
             ],
             [
              0.5555555555555556,
              "#d8576b"
             ],
             [
              0.6666666666666666,
              "#ed7953"
             ],
             [
              0.7777777777777778,
              "#fb9f3a"
             ],
             [
              0.8888888888888888,
              "#fdca26"
             ],
             [
              1,
              "#f0f921"
             ]
            ],
            "type": "heatmapgl"
           }
          ],
          "histogram": [
           {
            "marker": {
             "pattern": {
              "fillmode": "overlay",
              "size": 10,
              "solidity": 0.2
             }
            },
            "type": "histogram"
           }
          ],
          "histogram2d": [
           {
            "colorbar": {
             "outlinewidth": 0,
             "ticks": ""
            },
            "colorscale": [
             [
              0,
              "#0d0887"
             ],
             [
              0.1111111111111111,
              "#46039f"
             ],
             [
              0.2222222222222222,
              "#7201a8"
             ],
             [
              0.3333333333333333,
              "#9c179e"
             ],
             [
              0.4444444444444444,
              "#bd3786"
             ],
             [
              0.5555555555555556,
              "#d8576b"
             ],
             [
              0.6666666666666666,
              "#ed7953"
             ],
             [
              0.7777777777777778,
              "#fb9f3a"
             ],
             [
              0.8888888888888888,
              "#fdca26"
             ],
             [
              1,
              "#f0f921"
             ]
            ],
            "type": "histogram2d"
           }
          ],
          "histogram2dcontour": [
           {
            "colorbar": {
             "outlinewidth": 0,
             "ticks": ""
            },
            "colorscale": [
             [
              0,
              "#0d0887"
             ],
             [
              0.1111111111111111,
              "#46039f"
             ],
             [
              0.2222222222222222,
              "#7201a8"
             ],
             [
              0.3333333333333333,
              "#9c179e"
             ],
             [
              0.4444444444444444,
              "#bd3786"
             ],
             [
              0.5555555555555556,
              "#d8576b"
             ],
             [
              0.6666666666666666,
              "#ed7953"
             ],
             [
              0.7777777777777778,
              "#fb9f3a"
             ],
             [
              0.8888888888888888,
              "#fdca26"
             ],
             [
              1,
              "#f0f921"
             ]
            ],
            "type": "histogram2dcontour"
           }
          ],
          "mesh3d": [
           {
            "colorbar": {
             "outlinewidth": 0,
             "ticks": ""
            },
            "type": "mesh3d"
           }
          ],
          "parcoords": [
           {
            "line": {
             "colorbar": {
              "outlinewidth": 0,
              "ticks": ""
             }
            },
            "type": "parcoords"
           }
          ],
          "pie": [
           {
            "automargin": true,
            "type": "pie"
           }
          ],
          "scatter": [
           {
            "marker": {
             "colorbar": {
              "outlinewidth": 0,
              "ticks": ""
             }
            },
            "type": "scatter"
           }
          ],
          "scatter3d": [
           {
            "line": {
             "colorbar": {
              "outlinewidth": 0,
              "ticks": ""
             }
            },
            "marker": {
             "colorbar": {
              "outlinewidth": 0,
              "ticks": ""
             }
            },
            "type": "scatter3d"
           }
          ],
          "scattercarpet": [
           {
            "marker": {
             "colorbar": {
              "outlinewidth": 0,
              "ticks": ""
             }
            },
            "type": "scattercarpet"
           }
          ],
          "scattergeo": [
           {
            "marker": {
             "colorbar": {
              "outlinewidth": 0,
              "ticks": ""
             }
            },
            "type": "scattergeo"
           }
          ],
          "scattergl": [
           {
            "marker": {
             "colorbar": {
              "outlinewidth": 0,
              "ticks": ""
             }
            },
            "type": "scattergl"
           }
          ],
          "scattermapbox": [
           {
            "marker": {
             "colorbar": {
              "outlinewidth": 0,
              "ticks": ""
             }
            },
            "type": "scattermapbox"
           }
          ],
          "scatterpolar": [
           {
            "marker": {
             "colorbar": {
              "outlinewidth": 0,
              "ticks": ""
             }
            },
            "type": "scatterpolar"
           }
          ],
          "scatterpolargl": [
           {
            "marker": {
             "colorbar": {
              "outlinewidth": 0,
              "ticks": ""
             }
            },
            "type": "scatterpolargl"
           }
          ],
          "scatterternary": [
           {
            "marker": {
             "colorbar": {
              "outlinewidth": 0,
              "ticks": ""
             }
            },
            "type": "scatterternary"
           }
          ],
          "surface": [
           {
            "colorbar": {
             "outlinewidth": 0,
             "ticks": ""
            },
            "colorscale": [
             [
              0,
              "#0d0887"
             ],
             [
              0.1111111111111111,
              "#46039f"
             ],
             [
              0.2222222222222222,
              "#7201a8"
             ],
             [
              0.3333333333333333,
              "#9c179e"
             ],
             [
              0.4444444444444444,
              "#bd3786"
             ],
             [
              0.5555555555555556,
              "#d8576b"
             ],
             [
              0.6666666666666666,
              "#ed7953"
             ],
             [
              0.7777777777777778,
              "#fb9f3a"
             ],
             [
              0.8888888888888888,
              "#fdca26"
             ],
             [
              1,
              "#f0f921"
             ]
            ],
            "type": "surface"
           }
          ],
          "table": [
           {
            "cells": {
             "fill": {
              "color": "#EBF0F8"
             },
             "line": {
              "color": "white"
             }
            },
            "header": {
             "fill": {
              "color": "#C8D4E3"
             },
             "line": {
              "color": "white"
             }
            },
            "type": "table"
           }
          ]
         },
         "layout": {
          "annotationdefaults": {
           "arrowcolor": "#2a3f5f",
           "arrowhead": 0,
           "arrowwidth": 1
          },
          "autotypenumbers": "strict",
          "coloraxis": {
           "colorbar": {
            "outlinewidth": 0,
            "ticks": ""
           }
          },
          "colorscale": {
           "diverging": [
            [
             0,
             "#8e0152"
            ],
            [
             0.1,
             "#c51b7d"
            ],
            [
             0.2,
             "#de77ae"
            ],
            [
             0.3,
             "#f1b6da"
            ],
            [
             0.4,
             "#fde0ef"
            ],
            [
             0.5,
             "#f7f7f7"
            ],
            [
             0.6,
             "#e6f5d0"
            ],
            [
             0.7,
             "#b8e186"
            ],
            [
             0.8,
             "#7fbc41"
            ],
            [
             0.9,
             "#4d9221"
            ],
            [
             1,
             "#276419"
            ]
           ],
           "sequential": [
            [
             0,
             "#0d0887"
            ],
            [
             0.1111111111111111,
             "#46039f"
            ],
            [
             0.2222222222222222,
             "#7201a8"
            ],
            [
             0.3333333333333333,
             "#9c179e"
            ],
            [
             0.4444444444444444,
             "#bd3786"
            ],
            [
             0.5555555555555556,
             "#d8576b"
            ],
            [
             0.6666666666666666,
             "#ed7953"
            ],
            [
             0.7777777777777778,
             "#fb9f3a"
            ],
            [
             0.8888888888888888,
             "#fdca26"
            ],
            [
             1,
             "#f0f921"
            ]
           ],
           "sequentialminus": [
            [
             0,
             "#0d0887"
            ],
            [
             0.1111111111111111,
             "#46039f"
            ],
            [
             0.2222222222222222,
             "#7201a8"
            ],
            [
             0.3333333333333333,
             "#9c179e"
            ],
            [
             0.4444444444444444,
             "#bd3786"
            ],
            [
             0.5555555555555556,
             "#d8576b"
            ],
            [
             0.6666666666666666,
             "#ed7953"
            ],
            [
             0.7777777777777778,
             "#fb9f3a"
            ],
            [
             0.8888888888888888,
             "#fdca26"
            ],
            [
             1,
             "#f0f921"
            ]
           ]
          },
          "colorway": [
           "#636efa",
           "#EF553B",
           "#00cc96",
           "#ab63fa",
           "#FFA15A",
           "#19d3f3",
           "#FF6692",
           "#B6E880",
           "#FF97FF",
           "#FECB52"
          ],
          "font": {
           "color": "#2a3f5f"
          },
          "geo": {
           "bgcolor": "white",
           "lakecolor": "white",
           "landcolor": "#E5ECF6",
           "showlakes": true,
           "showland": true,
           "subunitcolor": "white"
          },
          "hoverlabel": {
           "align": "left"
          },
          "hovermode": "closest",
          "mapbox": {
           "style": "light"
          },
          "paper_bgcolor": "white",
          "plot_bgcolor": "#E5ECF6",
          "polar": {
           "angularaxis": {
            "gridcolor": "white",
            "linecolor": "white",
            "ticks": ""
           },
           "bgcolor": "#E5ECF6",
           "radialaxis": {
            "gridcolor": "white",
            "linecolor": "white",
            "ticks": ""
           }
          },
          "scene": {
           "xaxis": {
            "backgroundcolor": "#E5ECF6",
            "gridcolor": "white",
            "gridwidth": 2,
            "linecolor": "white",
            "showbackground": true,
            "ticks": "",
            "zerolinecolor": "white"
           },
           "yaxis": {
            "backgroundcolor": "#E5ECF6",
            "gridcolor": "white",
            "gridwidth": 2,
            "linecolor": "white",
            "showbackground": true,
            "ticks": "",
            "zerolinecolor": "white"
           },
           "zaxis": {
            "backgroundcolor": "#E5ECF6",
            "gridcolor": "white",
            "gridwidth": 2,
            "linecolor": "white",
            "showbackground": true,
            "ticks": "",
            "zerolinecolor": "white"
           }
          },
          "shapedefaults": {
           "line": {
            "color": "#2a3f5f"
           }
          },
          "ternary": {
           "aaxis": {
            "gridcolor": "white",
            "linecolor": "white",
            "ticks": ""
           },
           "baxis": {
            "gridcolor": "white",
            "linecolor": "white",
            "ticks": ""
           },
           "bgcolor": "#E5ECF6",
           "caxis": {
            "gridcolor": "white",
            "linecolor": "white",
            "ticks": ""
           }
          },
          "title": {
           "x": 0.05
          },
          "xaxis": {
           "automargin": true,
           "gridcolor": "white",
           "linecolor": "white",
           "ticks": "",
           "title": {
            "standoff": 15
           },
           "zerolinecolor": "white",
           "zerolinewidth": 2
          },
          "yaxis": {
           "automargin": true,
           "gridcolor": "white",
           "linecolor": "white",
           "ticks": "",
           "title": {
            "standoff": 15
           },
           "zerolinecolor": "white",
           "zerolinewidth": 2
          }
         }
        },
        "title": {
         "text": "Harry Potter Characters"
        },
        "width": 1000,
        "xaxis": {
         "title": {
          "text": "First Dimension"
         }
        },
        "yaxis": {
         "title": {
          "text": "Second Dimension"
         }
        }
       }
      }
     },
     "metadata": {},
     "output_type": "display_data"
    }
   ],
   "source": [
    "# use plotly to plot the first two dimensions of embed with hovertext given by the names of the characters  \n",
    "import plotly.graph_objects as go       \n",
    "embedding = embed(A, d = 10)\n",
    "# embedding = to_laplacian(A,regulariser=1).todense()\n",
    "\n",
    "# embedding = degree_correction(embedding)\n",
    "\n",
    "fig = go.Figure(data=go.Scatter(x=embedding[:,0],\n",
    "                                y=embedding[:,1],\n",
    "                                mode='markers+text',\n",
    "                                hovertext = nodes,\n",
    "                                marker=dict(size=10),\n",
    "                                textposition=\"bottom center\"))  \n",
    "fig.update_layout(title = 'Harry Potter Characters',  \n",
    "                    xaxis_title = 'First Dimension', \n",
    "                    yaxis_title = 'Second Dimension', \n",
    "                    hovermode = 'closest',\n",
    "                    width = 750,    \n",
    "                    height = 750) \n",
    "fig.show()  \n"
   ]
  }
 ],
 "metadata": {
  "kernelspec": {
   "display_name": "base",
   "language": "python",
   "name": "python3"
  },
  "language_info": {
   "codemirror_mode": {
    "name": "ipython",
    "version": 3
   },
   "file_extension": ".py",
   "mimetype": "text/x-python",
   "name": "python",
   "nbconvert_exporter": "python",
   "pygments_lexer": "ipython3",
   "version": "3.8.5"
  },
  "orig_nbformat": 4
 },
 "nbformat": 4,
 "nbformat_minor": 2
}
