{
 "cells": [
  {
   "cell_type": "code",
   "execution_count": 4,
   "metadata": {},
   "outputs": [
    {
     "name": "stderr",
     "output_type": "stream",
     "text": [
      "/home/ag16115/anaconda3/lib/python3.8/site-packages/scipy/__init__.py:138: UserWarning: A NumPy version >=1.16.5 and <1.23.0 is required for this version of SciPy (detected version 1.23.1)\n",
      "  warnings.warn(f\"A NumPy version >={np_minversion} and <{np_maxversion} is required for this version of \"\n"
     ]
    }
   ],
   "source": [
    "import pandas as pd\n",
    "import numpy as np\n",
    "from scipy import sparse\n",
    "from scipy.sparse.csgraph import connected_components\n",
    "from scipy.sparse.linalg import svds\n",
    "import networkx as nx\n",
    "from copy import deepcopy\n",
    "from scipy import linalg"
   ]
  },
  {
   "cell_type": "markdown",
   "metadata": {},
   "source": [
    "Data .csv version from: https://networks.skewed.de/net/lesmis\n",
    "\n",
    "The network of scene coappearances of characters in Victor Hugo's novel \"Les Miserables\". Edge weights denote the number of such occurrences."
   ]
  },
  {
   "cell_type": "code",
   "execution_count": 16,
   "metadata": {},
   "outputs": [],
   "source": [
    "edges = pd.read_csv('/home/ag16115/Documents/phd/codebase_data/les_mis/edges.csv')\n",
    "nodes = np.array(pd.read_csv('/home/ag16115/Documents/phd/codebase_data/les_mis/nodes.csv')[' label'])\n",
    "\n",
    "edges.columns = ['source', 'target','weight']"
   ]
  },
  {
   "cell_type": "code",
   "execution_count": 58,
   "metadata": {},
   "outputs": [
    {
     "data": {
      "text/plain": [
       "array(['Myriel', 'Napoleon', 'MlleBaptistine', 'MmeMagloire',\n",
       "       'CountessDeLo', 'Geborand', 'Champtercier', 'Cravatte', 'Count',\n",
       "       'OldMan', 'Labarre', 'Valjean', 'Marguerite', 'MmeDeR', 'Isabeau',\n",
       "       'Gervais', 'Tholomyes', 'Listolier', 'Fameuil', 'Blacheville',\n",
       "       'Favourite', 'Dahlia', 'Zephine', 'Fantine', 'MmeThenardier',\n",
       "       'Thenardier', 'Cosette', 'Javert', 'Fauchelevent', 'Bamatabois',\n",
       "       'Perpetue', 'Simplice', 'Scaufflaire', 'Woman1', 'Judge',\n",
       "       'Champmathieu', 'Brevet', 'Chenildieu', 'Cochepaille', 'Pontmercy',\n",
       "       'Boulatruelle', 'Eponine', 'Anzelma', 'Woman2', 'MotherInnocent',\n",
       "       'Gribier', 'Jondrette', 'MmeBurgon', 'Gavroche', 'Gillenormand',\n",
       "       'Magnon', 'MlleGillenormand', 'MmePontmercy', 'MlleVaubois',\n",
       "       'LtGillenormand', 'Marius', 'BaronessT', 'Mabeuf', 'Enjolras',\n",
       "       'Combeferre', 'Prouvaire', 'Feuilly', 'Courfeyrac', 'Bahorel',\n",
       "       'Bossuet', 'Joly', 'Grantaire', 'MotherPlutarch', 'Gueulemer',\n",
       "       'Babet', 'Claquesous', 'Montparnasse', 'Toussaint', 'Child1',\n",
       "       'Child2', 'Brujon', 'MmeHucheloup'], dtype=object)"
      ]
     },
     "execution_count": 58,
     "metadata": {},
     "output_type": "execute_result"
    }
   ],
   "source": [
    "nodes"
   ]
  },
  {
   "cell_type": "code",
   "execution_count": 25,
   "metadata": {},
   "outputs": [],
   "source": [
    "id_to_node = dict(zip(range(len(nodes)), nodes))\n",
    "n = len(id_to_node)"
   ]
  },
  {
   "cell_type": "code",
   "execution_count": 46,
   "metadata": {},
   "outputs": [],
   "source": [
    "def make_adjacency_matrix(n, source, target, weight = None):\n",
    "    if weight is None:\n",
    "        weights = np.ones(len(n))\n",
    "    else:\n",
    "        weights = weight\n",
    "    A1 = sparse.coo_matrix((weights, (source, target)), shape=(n,n))\n",
    "    A2 = sparse.coo_matrix((weights, (target, source)), shape=(n,n))\n",
    "    return A1 + A2"
   ]
  },
  {
   "cell_type": "code",
   "execution_count": 52,
   "metadata": {},
   "outputs": [],
   "source": [
    "def embed(A, d = 10):\n",
    "    \"\"\" \n",
    "    Embed a graph using adjacency matrix.   \n",
    "    \"\"\"\n",
    "    A = A.astype(float)\n",
    "    u, s, vT = svds(A, d)\n",
    "    o = np.argsort(s[::-1])\n",
    "    embedding = u[:,o] @ np.diag(np.sqrt(s[o]))                  \n",
    "    return embedding"
   ]
  },
  {
   "cell_type": "code",
   "execution_count": 41,
   "metadata": {},
   "outputs": [],
   "source": [
    "A = make_adjacency_matrix(n, edges['source'], edges['target'], edges['weight'])\n",
    "# A = A.todense()"
   ]
  },
  {
   "cell_type": "code",
   "execution_count": 51,
   "metadata": {},
   "outputs": [
    {
     "data": {
      "text/plain": [
       "matrix([[0., 1., 8., ..., 0., 0., 0.],\n",
       "        [1., 0., 0., ..., 0., 0., 0.],\n",
       "        [8., 0., 0., ..., 0., 0., 0.],\n",
       "        ...,\n",
       "        [0., 0., 0., ..., 0., 0., 0.],\n",
       "        [0., 0., 0., ..., 0., 0., 0.],\n",
       "        [0., 0., 0., ..., 0., 0., 0.]])"
      ]
     },
     "execution_count": 51,
     "metadata": {},
     "output_type": "execute_result"
    }
   ],
   "source": [
    "A.astype(float)"
   ]
  },
  {
   "cell_type": "code",
   "execution_count": 54,
   "metadata": {},
   "outputs": [
    {
     "data": {
      "text/plain": [
       "(77, 10)"
      ]
     },
     "execution_count": 54,
     "metadata": {},
     "output_type": "execute_result"
    }
   ],
   "source": [
    "embed(A).shape"
   ]
  },
  {
   "cell_type": "code",
   "execution_count": 63,
   "metadata": {},
   "outputs": [
    {
     "data": {
      "text/plain": [
       "{}"
      ]
     },
     "execution_count": 63,
     "metadata": {},
     "output_type": "execute_result"
    }
   ],
   "source": [
    "G.nodes[1]"
   ]
  },
  {
   "cell_type": "code",
   "execution_count": 55,
   "metadata": {},
   "outputs": [],
   "source": [
    "# make networkx graph from source and target and weight \n",
    "G = nx.from_pandas_edgelist(edges, 'source', 'target', 'weight')"
   ]
  },
  {
   "cell_type": "code",
   "execution_count": 57,
   "metadata": {},
   "outputs": [
    {
     "data": {
      "text/plain": [
       "NodeView((1, 0, 2, 3, 4, 5, 6, 7, 8, 9, 11, 10, 12, 13, 14, 15, 17, 16, 18, 19, 20, 21, 22, 23, 24, 25, 26, 27, 28, 29, 30, 31, 32, 33, 34, 35, 36, 37, 38, 39, 40, 41, 42, 43, 44, 45, 47, 46, 48, 49, 50, 51, 52, 53, 54, 55, 56, 57, 58, 59, 60, 61, 62, 63, 64, 65, 66, 67, 68, 69, 70, 71, 72, 73, 74, 75, 76))"
      ]
     },
     "execution_count": 57,
     "metadata": {},
     "output_type": "execute_result"
    }
   ],
   "source": [
    "G.nodes"
   ]
  },
  {
   "cell_type": "code",
   "execution_count": null,
   "metadata": {},
   "outputs": [],
   "source": [
    "sparse.coo_matrix((np.ones(len(sources)), (sources, targets)), shape=(n,n))"
   ]
  }
 ],
 "metadata": {
  "kernelspec": {
   "display_name": "base",
   "language": "python",
   "name": "python3"
  },
  "language_info": {
   "codemirror_mode": {
    "name": "ipython",
    "version": 3
   },
   "file_extension": ".py",
   "mimetype": "text/x-python",
   "name": "python",
   "nbconvert_exporter": "python",
   "pygments_lexer": "ipython3",
   "version": "3.8.5"
  },
  "orig_nbformat": 4
 },
 "nbformat": 4,
 "nbformat_minor": 2
}
